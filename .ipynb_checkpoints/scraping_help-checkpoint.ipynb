{
 "cells": [
  {
   "cell_type": "code",
   "execution_count": 41,
   "metadata": {},
   "outputs": [],
   "source": [
    "from urllib.request import urlopen, Request\n",
    "from user_agent import generate_user_agent\n",
    "from bs4 import BeautifulSoup\n",
    "import os\n",
    "import pandas as pd \n",
    "import requests\n",
    "import matplotlib.pyplot as plt\n",
    "from nltk.sentiment.vader import SentimentIntensityAnalyzer\n",
    "import nltk"
   ]
  },
  {
   "cell_type": "code",
   "execution_count": 17,
   "metadata": {},
   "outputs": [],
   "source": [
    "url = \"https://finviz.com/quote.ashx?t=\"\n",
    "\n",
    "news_tables = {}\n",
    "tickers = ['AMZN']"
   ]
  },
  {
   "cell_type": "code",
   "execution_count": 23,
   "metadata": {},
   "outputs": [],
   "source": [
    "for ticker in tickers: \n",
    "    news_tables[ticker] = []\n",
    "    ticker_url = url + ticker\n",
    "    req = Request(url = ticker_url, headers={'user-agent': 'my-app/0.0.1'})\n",
    "    response = urlopen(req)\n",
    "\n",
    "    soup = BeautifulSoup(response)\n",
    "    news_title_html = soup.select('#news-table .news-link-left')\n",
    "    \n",
    "    for i in range(len(news_title_html)):\n",
    "        news_tables[ticker].append(news_title_html[i].text)"
   ]
  },
  {
   "cell_type": "code",
   "execution_count": 34,
   "metadata": {},
   "outputs": [],
   "source": [
    "vader = SentimentIntensityAnalyzer()\n",
    "columns = ['headline']\n",
    "\n",
    "parsed_and_scored_news = pd.DataFrame(news_tables['AMZN'], columns=columns)\n",
    "scores = parsed_and_scored_news['headline'].apply(vader.polarity_scores).tolist()\n",
    "scores_df = pd.DataFrame(scores)"
   ]
  },
  {
   "cell_type": "code",
   "execution_count": 36,
   "metadata": {},
   "outputs": [
    {
     "data": {
      "text/html": [
       "<div>\n",
       "<style scoped>\n",
       "    .dataframe tbody tr th:only-of-type {\n",
       "        vertical-align: middle;\n",
       "    }\n",
       "\n",
       "    .dataframe tbody tr th {\n",
       "        vertical-align: top;\n",
       "    }\n",
       "\n",
       "    .dataframe thead th {\n",
       "        text-align: right;\n",
       "    }\n",
       "</style>\n",
       "<table border=\"1\" class=\"dataframe\">\n",
       "  <thead>\n",
       "    <tr style=\"text-align: right;\">\n",
       "      <th></th>\n",
       "      <th>headline</th>\n",
       "      <th>neg</th>\n",
       "      <th>neu</th>\n",
       "      <th>pos</th>\n",
       "      <th>compound</th>\n",
       "    </tr>\n",
       "  </thead>\n",
       "  <tbody>\n",
       "    <tr>\n",
       "      <th>0</th>\n",
       "      <td>2 Strong Buy FAANG Stocks to Watch Into Earnings</td>\n",
       "      <td>0.000</td>\n",
       "      <td>0.680</td>\n",
       "      <td>0.320</td>\n",
       "      <td>0.5106</td>\n",
       "    </tr>\n",
       "    <tr>\n",
       "      <th>1</th>\n",
       "      <td>G20 finance officials vow to resolve digital t...</td>\n",
       "      <td>0.000</td>\n",
       "      <td>0.794</td>\n",
       "      <td>0.206</td>\n",
       "      <td>0.3818</td>\n",
       "    </tr>\n",
       "    <tr>\n",
       "      <th>2</th>\n",
       "      <td>Amazon Has a New Partner in Its Health Care As...</td>\n",
       "      <td>0.259</td>\n",
       "      <td>0.408</td>\n",
       "      <td>0.333</td>\n",
       "      <td>0.0258</td>\n",
       "    </tr>\n",
       "    <tr>\n",
       "      <th>3</th>\n",
       "      <td>Will Amazon Prime Reach 200 Million Members by...</td>\n",
       "      <td>0.000</td>\n",
       "      <td>0.781</td>\n",
       "      <td>0.219</td>\n",
       "      <td>0.2023</td>\n",
       "    </tr>\n",
       "    <tr>\n",
       "      <th>4</th>\n",
       "      <td>The Biggest Problem With Investing in Teladoc</td>\n",
       "      <td>0.310</td>\n",
       "      <td>0.690</td>\n",
       "      <td>0.000</td>\n",
       "      <td>-0.4019</td>\n",
       "    </tr>\n",
       "  </tbody>\n",
       "</table>\n",
       "</div>"
      ],
      "text/plain": [
       "                                            headline    neg    neu    pos  \\\n",
       "0   2 Strong Buy FAANG Stocks to Watch Into Earnings  0.000  0.680  0.320   \n",
       "1  G20 finance officials vow to resolve digital t...  0.000  0.794  0.206   \n",
       "2  Amazon Has a New Partner in Its Health Care As...  0.259  0.408  0.333   \n",
       "3  Will Amazon Prime Reach 200 Million Members by...  0.000  0.781  0.219   \n",
       "4      The Biggest Problem With Investing in Teladoc  0.310  0.690  0.000   \n",
       "\n",
       "   compound  \n",
       "0    0.5106  \n",
       "1    0.3818  \n",
       "2    0.0258  \n",
       "3    0.2023  \n",
       "4   -0.4019  "
      ]
     },
     "execution_count": 36,
     "metadata": {},
     "output_type": "execute_result"
    }
   ],
   "source": [
    "parsed_and_scored_news = parsed_and_scored_news.join(scores_df, rsuffix='_right')\n",
    "parsed_and_scored_news.head()"
   ]
  },
  {
   "cell_type": "code",
   "execution_count": 37,
   "metadata": {},
   "outputs": [
    {
     "data": {
      "text/plain": [
       "0.033239"
      ]
     },
     "execution_count": 37,
     "metadata": {},
     "output_type": "execute_result"
    }
   ],
   "source": [
    "parsed_and_scored_news['compound'].mean()"
   ]
  },
  {
   "cell_type": "code",
   "execution_count": 42,
   "metadata": {},
   "outputs": [],
   "source": [
    "url = \"https://finviz.com/quote.ashx?t=\"\n",
    "\n",
    "def scrape(ticker):\n",
    "    ticker_url = url + ticker\n",
    "    req = Request(url=ticker_url, headers={'user-agent':generate_user_agent()})\n",
    "    response = urlopen(req)\n",
    "\n",
    "    soup = BeautifulSoup(response)\n",
    "    return soup\n",
    "\n",
    "def scrape_news(ticker):\n",
    "    html = scrape(ticker)\n",
    "    news_title_html = html.select(\"#news-table .news-link-left\")\n",
    "    news = []\n",
    "    for i in range(len(news_title_html)):\n",
    "        news.append(news_title_html[i].text)\n",
    "\n",
    "    return news"
   ]
  },
  {
   "cell_type": "code",
   "execution_count": 45,
   "metadata": {},
   "outputs": [],
   "source": [
    "vader = SentimentIntensityAnalyzer()\n",
    "\n",
    "def get_sentiment(ticker):\n",
    "    columns = ['headline']\n",
    "    news = scrape_news(ticker)\n",
    "    news = pd.DataFrame(news, columns=columns)\n",
    "    scores = news['headline'].apply(vader.polarity_scores).tolist()\n",
    "    scores_df = pd.DataFrame(scores)\n",
    "    news = news.join(scores_df, rsuffix='_right')\n",
    "\n",
    "    return news['compound'].mean()"
   ]
  },
  {
   "cell_type": "code",
   "execution_count": 46,
   "metadata": {},
   "outputs": [
    {
     "data": {
      "text/plain": [
       "0.033239"
      ]
     },
     "execution_count": 46,
     "metadata": {},
     "output_type": "execute_result"
    }
   ],
   "source": [
    "get_sentiment('AMZN')"
   ]
  },
  {
   "cell_type": "code",
   "execution_count": 53,
   "metadata": {},
   "outputs": [],
   "source": [
    "from yahoo_finance import Share"
   ]
  },
  {
   "cell_type": "code",
   "execution_count": 55,
   "metadata": {},
   "outputs": [],
   "source": [
    "from iexfinance.stocks import Stock"
   ]
  },
  {
   "cell_type": "code",
   "execution_count": 77,
   "metadata": {},
   "outputs": [],
   "source": [
    "tlsa = Stock(\"AMZN\", token=\"sk_9e2d59a28adb408bb43d8f460553c556\").get_quote()"
   ]
  },
  {
   "cell_type": "code",
   "execution_count": 80,
   "metadata": {},
   "outputs": [
    {
     "data": {
      "text/plain": [
       "{'symbol': 'AMZN',\n",
       " 'companyName': 'Amazon.com, Inc.',\n",
       " 'primaryExchange': 'NASDAQ',\n",
       " 'calculationPrice': 'close',\n",
       " 'open': 3010.04,\n",
       " 'openTime': 1594992600971,\n",
       " 'openSource': 'official',\n",
       " 'close': 2961.97,\n",
       " 'closeTime': 1595016000335,\n",
       " 'closeSource': 'official',\n",
       " 'high': 3024,\n",
       " 'highTime': 1595030394670,\n",
       " 'highSource': '15 minute delayed price',\n",
       " 'low': 2948.45,\n",
       " 'lowTime': 1595002846527,\n",
       " 'lowSource': '15 minute delayed price',\n",
       " 'latestPrice': 2961.97,\n",
       " 'latestSource': 'Close',\n",
       " 'latestTime': 'July 17, 2020',\n",
       " 'latestUpdate': 1595016000335,\n",
       " 'latestVolume': 4793058,\n",
       " 'iexRealtimePrice': None,\n",
       " 'iexRealtimeSize': None,\n",
       " 'iexLastUpdated': None,\n",
       " 'delayedPrice': 2962.55,\n",
       " 'delayedPriceTime': 1595030394670,\n",
       " 'oddLotDelayedPrice': 2961.47,\n",
       " 'oddLotDelayedPriceTime': 1595015999941,\n",
       " 'extendedPrice': 2962.55,\n",
       " 'extendedChange': 0.58,\n",
       " 'extendedChangePercent': 0.0002,\n",
       " 'extendedPriceTime': 1595030394670,\n",
       " 'previousClose': 2999.9,\n",
       " 'previousVolume': 6394246,\n",
       " 'change': -37.93,\n",
       " 'changePercent': -0.01264,\n",
       " 'volume': 4793058,\n",
       " 'iexMarketPercent': None,\n",
       " 'iexVolume': None,\n",
       " 'avgTotalVolume': 5022068,\n",
       " 'iexBidPrice': None,\n",
       " 'iexBidSize': None,\n",
       " 'iexAskPrice': None,\n",
       " 'iexAskSize': None,\n",
       " 'iexOpen': None,\n",
       " 'iexOpenTime': None,\n",
       " 'iexClose': 2961.28,\n",
       " 'iexCloseTime': 1595015997505,\n",
       " 'marketCap': 1477359548720,\n",
       " 'peRatio': 138.96,\n",
       " 'week52High': 3344.29,\n",
       " 'week52Low': 1626.03,\n",
       " 'ytdChange': 0.547926,\n",
       " 'lastTradeTime': 1595016000335,\n",
       " 'isUSMarketOpen': False}"
      ]
     },
     "execution_count": 80,
     "metadata": {},
     "output_type": "execute_result"
    }
   ],
   "source": [
    "tlsa"
   ]
  },
  {
   "cell_type": "code",
   "execution_count": 91,
   "metadata": {},
   "outputs": [],
   "source": [
    "from datetime import datetime, timedelta\n",
    "from iexfinance.stocks import Stock, get_historical_data"
   ]
  },
  {
   "cell_type": "code",
   "execution_count": 105,
   "metadata": {},
   "outputs": [
    {
     "data": {
      "text/plain": [
       "datetime.date(2019, 7, 20)"
      ]
     },
     "execution_count": 105,
     "metadata": {},
     "output_type": "execute_result"
    }
   ],
   "source": [
    "oneyear = datetime.now().date() - timedelta(days=365)\n",
    "oneyear"
   ]
  },
  {
   "cell_type": "code",
   "execution_count": 128,
   "metadata": {},
   "outputs": [],
   "source": [
    "from matplotlib.backends.backend_agg import FigureCanvasAgg as FigureCanvas\n",
    "from matplotlib.figure import Figure"
   ]
  },
  {
   "cell_type": "code",
   "execution_count": 125,
   "metadata": {},
   "outputs": [],
   "source": [
    "data = get_historical_data(ticker, start=oneyear, end=datetime.now().date(), output_format='pandas', token = \"Tpk_68eb4634611c4b09a0415877f28eaeda\")"
   ]
  },
  {
   "cell_type": "code",
   "execution_count": 130,
   "metadata": {},
   "outputs": [
    {
     "data": {
      "text/html": [
       "<div>\n",
       "<style scoped>\n",
       "    .dataframe tbody tr th:only-of-type {\n",
       "        vertical-align: middle;\n",
       "    }\n",
       "\n",
       "    .dataframe tbody tr th {\n",
       "        vertical-align: top;\n",
       "    }\n",
       "\n",
       "    .dataframe thead th {\n",
       "        text-align: right;\n",
       "    }\n",
       "</style>\n",
       "<table border=\"1\" class=\"dataframe\">\n",
       "  <thead>\n",
       "    <tr style=\"text-align: right;\">\n",
       "      <th></th>\n",
       "      <th>open</th>\n",
       "      <th>high</th>\n",
       "      <th>low</th>\n",
       "      <th>close</th>\n",
       "      <th>volume</th>\n",
       "    </tr>\n",
       "    <tr>\n",
       "      <th>date</th>\n",
       "      <th></th>\n",
       "      <th></th>\n",
       "      <th></th>\n",
       "      <th></th>\n",
       "      <th></th>\n",
       "    </tr>\n",
       "  </thead>\n",
       "  <tbody>\n",
       "    <tr>\n",
       "      <th>2019-07-22</th>\n",
       "      <td>2061.79</td>\n",
       "      <td>2037.00</td>\n",
       "      <td>2051.80</td>\n",
       "      <td>2064.11</td>\n",
       "      <td>2993537</td>\n",
       "    </tr>\n",
       "    <tr>\n",
       "      <th>2019-07-23</th>\n",
       "      <td>2051.75</td>\n",
       "      <td>2063.41</td>\n",
       "      <td>2026.31</td>\n",
       "      <td>2000.02</td>\n",
       "      <td>2782611</td>\n",
       "    </tr>\n",
       "    <tr>\n",
       "      <th>2019-07-24</th>\n",
       "      <td>1988.90</td>\n",
       "      <td>2037.00</td>\n",
       "      <td>1969.55</td>\n",
       "      <td>2088.68</td>\n",
       "      <td>2734810</td>\n",
       "    </tr>\n",
       "    <tr>\n",
       "      <th>2019-07-25</th>\n",
       "      <td>2078.00</td>\n",
       "      <td>2088.30</td>\n",
       "      <td>2021.03</td>\n",
       "      <td>2068.03</td>\n",
       "      <td>4282739</td>\n",
       "    </tr>\n",
       "    <tr>\n",
       "      <th>2019-07-26</th>\n",
       "      <td>1957.00</td>\n",
       "      <td>2034.69</td>\n",
       "      <td>1943.22</td>\n",
       "      <td>1992.72</td>\n",
       "      <td>5060222</td>\n",
       "    </tr>\n",
       "    <tr>\n",
       "      <th>...</th>\n",
       "      <td>...</td>\n",
       "      <td>...</td>\n",
       "      <td>...</td>\n",
       "      <td>...</td>\n",
       "      <td>...</td>\n",
       "    </tr>\n",
       "    <tr>\n",
       "      <th>2020-07-13</th>\n",
       "      <td>3348.38</td>\n",
       "      <td>3453.34</td>\n",
       "      <td>3083.54</td>\n",
       "      <td>3225.00</td>\n",
       "      <td>7838991</td>\n",
       "    </tr>\n",
       "    <tr>\n",
       "      <th>2020-07-14</th>\n",
       "      <td>3148.00</td>\n",
       "      <td>3190.55</td>\n",
       "      <td>3071.00</td>\n",
       "      <td>3173.00</td>\n",
       "      <td>7367027</td>\n",
       "    </tr>\n",
       "    <tr>\n",
       "      <th>2020-07-15</th>\n",
       "      <td>3224.46</td>\n",
       "      <td>3202.29</td>\n",
       "      <td>2977.34</td>\n",
       "      <td>3046.95</td>\n",
       "      <td>5891607</td>\n",
       "    </tr>\n",
       "    <tr>\n",
       "      <th>2020-07-16</th>\n",
       "      <td>3067.30</td>\n",
       "      <td>3037.00</td>\n",
       "      <td>3005.99</td>\n",
       "      <td>3096.00</td>\n",
       "      <td>6554763</td>\n",
       "    </tr>\n",
       "    <tr>\n",
       "      <th>2020-07-17</th>\n",
       "      <td>3016.00</td>\n",
       "      <td>3141.00</td>\n",
       "      <td>3081.94</td>\n",
       "      <td>3007.53</td>\n",
       "      <td>4839990</td>\n",
       "    </tr>\n",
       "  </tbody>\n",
       "</table>\n",
       "<p>251 rows × 5 columns</p>\n",
       "</div>"
      ],
      "text/plain": [
       "               open     high      low    close   volume\n",
       "date                                                   \n",
       "2019-07-22  2061.79  2037.00  2051.80  2064.11  2993537\n",
       "2019-07-23  2051.75  2063.41  2026.31  2000.02  2782611\n",
       "2019-07-24  1988.90  2037.00  1969.55  2088.68  2734810\n",
       "2019-07-25  2078.00  2088.30  2021.03  2068.03  4282739\n",
       "2019-07-26  1957.00  2034.69  1943.22  1992.72  5060222\n",
       "...             ...      ...      ...      ...      ...\n",
       "2020-07-13  3348.38  3453.34  3083.54  3225.00  7838991\n",
       "2020-07-14  3148.00  3190.55  3071.00  3173.00  7367027\n",
       "2020-07-15  3224.46  3202.29  2977.34  3046.95  5891607\n",
       "2020-07-16  3067.30  3037.00  3005.99  3096.00  6554763\n",
       "2020-07-17  3016.00  3141.00  3081.94  3007.53  4839990\n",
       "\n",
       "[251 rows x 5 columns]"
      ]
     },
     "execution_count": 130,
     "metadata": {},
     "output_type": "execute_result"
    }
   ],
   "source": [
    "data"
   ]
  },
  {
   "cell_type": "code",
   "execution_count": 137,
   "metadata": {},
   "outputs": [
    {
     "data": {
      "text/plain": [
       "'data:image/png;base64,'"
      ]
     },
     "execution_count": 137,
     "metadata": {},
     "output_type": "execute_result"
    }
   ],
   "source": [
    "fig = Figure()\n",
    "axis = fig.add_subplot(1, 1, 1)\n",
    "axis.set_title(ticker + \"1-year prices\")\n",
    "axis.set_xlabel(\"Date\")\n",
    "axis.set_ylabel(\"Closing price ($)\")\n",
    "axis.plot(data['close'])\n",
    "pngImage = io.BytesIO()\n",
    "\n",
    "pngImageB64String = \"data:image/png;base64,\"\n",
    "pngImageB64String += base64.b64encode(pngImage.getvalue()).decode('utf8')\n",
    "\n",
    "pngImageB64String"
   ]
  },
  {
   "cell_type": "code",
   "execution_count": 141,
   "metadata": {},
   "outputs": [],
   "source": [
    "import base64\n",
    "import io\n",
    "import matplotlib.pyplot as plt"
   ]
  },
  {
   "cell_type": "code",
   "execution_count": 148,
   "metadata": {},
   "outputs": [
    {
     "data": {
      "text/plain": [
       "Text(0, 0.5, 'Price (in USD)')"
      ]
     },
     "execution_count": 148,
     "metadata": {},
     "output_type": "execute_result"
    },
    {
     "data": {
      "image/png": "[encoded data removed]",
      "text/plain": [
       "<Figure size 432x288 with 1 Axes>"
      ]
     },
     "metadata": {
      "needs_background": "light"
     },
     "output_type": "display_data"
    }
   ],
   "source": [
    "plt.plot(data['close'])\n",
    "plt.title(\"Ticker price\")\n",
    "plt.xlabel(\"Date\")\n",
    "plt.ylabel(\"Price (in USD)\")"
   ]
  },
  {
   "cell_type": "code",
   "execution_count": 150,
   "metadata": {},
   "outputs": [],
   "source": [
    "pngImage = io.BytesIO()\n",
    "FigureCanvas(fig).print_png(pngImage)"
   ]
  },
  {
   "cell_type": "code",
   "execution_count": 153,
   "metadata": {},
   "outputs": [],
   "source": [
    "from iexfinance.stocks import get_historical_intraday\n",
    "token = \"Tpk_68eb4634611c4b09a0415877f28eaeda\""
   ]
  },
  {
   "cell_type": "code",
   "execution_count": 177,
   "metadata": {},
   "outputs": [],
   "source": [
    "data = get_historical_intraday(\"AAPL\", token=token)\n",
    "import time"
   ]
  },
  {
   "cell_type": "code",
   "execution_count": 181,
   "metadata": {},
   "outputs": [
    {
     "ename": "AttributeError",
     "evalue": "'list' object has no attribute 'strptime'",
     "output_type": "error",
     "traceback": [
      "\u001b[0;31m---------------------------------------------------------------------------\u001b[0m",
      "\u001b[0;31mAttributeError\u001b[0m                            Traceback (most recent call last)",
      "\u001b[0;32m<ipython-input-181-92c6c7316c28>\u001b[0m in \u001b[0;36m<module>\u001b[0;34m\u001b[0m\n\u001b[1;32m      3\u001b[0m \u001b[0;32mfor\u001b[0m \u001b[0mi\u001b[0m \u001b[0;32min\u001b[0m \u001b[0mdata\u001b[0m\u001b[0;34m:\u001b[0m\u001b[0;34m\u001b[0m\u001b[0;34m\u001b[0m\u001b[0m\n\u001b[1;32m      4\u001b[0m     \u001b[0mcurrent_time\u001b[0m \u001b[0;34m=\u001b[0m \u001b[0mstr\u001b[0m\u001b[0;34m(\u001b[0m\u001b[0mi\u001b[0m\u001b[0;34m[\u001b[0m\u001b[0;34m\"label\"\u001b[0m\u001b[0;34m]\u001b[0m\u001b[0;34m)\u001b[0m\u001b[0;34m\u001b[0m\u001b[0;34m\u001b[0m\u001b[0m\n\u001b[0;32m----> 5\u001b[0;31m     \u001b[0mprint\u001b[0m\u001b[0;34m(\u001b[0m\u001b[0mtime\u001b[0m\u001b[0;34m.\u001b[0m\u001b[0mstrptime\u001b[0m\u001b[0;34m(\u001b[0m\u001b[0mstr\u001b[0m\u001b[0;34m(\u001b[0m\u001b[0mi\u001b[0m\u001b[0;34m[\u001b[0m\u001b[0;34m\"label\"\u001b[0m\u001b[0;34m]\u001b[0m\u001b[0;34m)\u001b[0m\u001b[0;34m)\u001b[0m\u001b[0;34m)\u001b[0m\u001b[0;34m\u001b[0m\u001b[0;34m\u001b[0m\u001b[0m\n\u001b[0m\u001b[1;32m      6\u001b[0m     \u001b[0mtime\u001b[0m\u001b[0;34m.\u001b[0m\u001b[0mappend\u001b[0m\u001b[0;34m(\u001b[0m\u001b[0mi\u001b[0m\u001b[0;34m[\u001b[0m\u001b[0;34m\"label\"\u001b[0m\u001b[0;34m]\u001b[0m\u001b[0;34m)\u001b[0m\u001b[0;34m\u001b[0m\u001b[0;34m\u001b[0m\u001b[0m\n\u001b[1;32m      7\u001b[0m     \u001b[0mvalue\u001b[0m\u001b[0;34m.\u001b[0m\u001b[0mappend\u001b[0m\u001b[0;34m(\u001b[0m\u001b[0mi\u001b[0m\u001b[0;34m[\u001b[0m\u001b[0;34m\"close\"\u001b[0m\u001b[0;34m]\u001b[0m\u001b[0;34m)\u001b[0m\u001b[0;34m\u001b[0m\u001b[0;34m\u001b[0m\u001b[0m\n",
      "\u001b[0;31mAttributeError\u001b[0m: 'list' object has no attribute 'strptime'"
     ]
    }
   ],
   "source": [
    "time = []\n",
    "value = []\n",
    "for i in range(len(data)):\n",
    "    curr_time = data[i]['label']\n",
    "    \n",
    "    \n",
    "    #time.append(i[\"label\"])\n",
    "    #value.append(i[\"close\"])"
   ]
  },
  {
   "cell_type": "code",
   "execution_count": 174,
   "metadata": {},
   "outputs": [
    {
     "data": {
      "text/html": [
       "<div>\n",
       "<style scoped>\n",
       "    .dataframe tbody tr th:only-of-type {\n",
       "        vertical-align: middle;\n",
       "    }\n",
       "\n",
       "    .dataframe tbody tr th {\n",
       "        vertical-align: top;\n",
       "    }\n",
       "\n",
       "    .dataframe thead th {\n",
       "        text-align: right;\n",
       "    }\n",
       "</style>\n",
       "<table border=\"1\" class=\"dataframe\">\n",
       "  <thead>\n",
       "    <tr style=\"text-align: right;\">\n",
       "      <th></th>\n",
       "      <th>Value</th>\n",
       "    </tr>\n",
       "    <tr>\n",
       "      <th>Time</th>\n",
       "      <th></th>\n",
       "    </tr>\n",
       "  </thead>\n",
       "  <tbody>\n",
       "    <tr>\n",
       "      <th>09:30 AM</th>\n",
       "      <td>388.660</td>\n",
       "    </tr>\n",
       "    <tr>\n",
       "      <th>09:31 AM</th>\n",
       "      <td>395.108</td>\n",
       "    </tr>\n",
       "    <tr>\n",
       "      <th>09:32 AM</th>\n",
       "      <td>391.936</td>\n",
       "    </tr>\n",
       "    <tr>\n",
       "      <th>09:33 AM</th>\n",
       "      <td>387.890</td>\n",
       "    </tr>\n",
       "    <tr>\n",
       "      <th>09:34 AM</th>\n",
       "      <td>405.250</td>\n",
       "    </tr>\n",
       "    <tr>\n",
       "      <th>...</th>\n",
       "      <td>...</td>\n",
       "    </tr>\n",
       "    <tr>\n",
       "      <th>3:55 PM</th>\n",
       "      <td>395.322</td>\n",
       "    </tr>\n",
       "    <tr>\n",
       "      <th>3:56 PM</th>\n",
       "      <td>403.859</td>\n",
       "    </tr>\n",
       "    <tr>\n",
       "      <th>3:57 PM</th>\n",
       "      <td>394.440</td>\n",
       "    </tr>\n",
       "    <tr>\n",
       "      <th>3:58 PM</th>\n",
       "      <td>403.080</td>\n",
       "    </tr>\n",
       "    <tr>\n",
       "      <th>3:59 PM</th>\n",
       "      <td>399.390</td>\n",
       "    </tr>\n",
       "  </tbody>\n",
       "</table>\n",
       "<p>390 rows × 1 columns</p>\n",
       "</div>"
      ],
      "text/plain": [
       "            Value\n",
       "Time             \n",
       "09:30 AM  388.660\n",
       "09:31 AM  395.108\n",
       "09:32 AM  391.936\n",
       "09:33 AM  387.890\n",
       "09:34 AM  405.250\n",
       "...           ...\n",
       "3:55 PM   395.322\n",
       "3:56 PM   403.859\n",
       "3:57 PM   394.440\n",
       "3:58 PM   403.080\n",
       "3:59 PM   399.390\n",
       "\n",
       "[390 rows x 1 columns]"
      ]
     },
     "execution_count": 174,
     "metadata": {},
     "output_type": "execute_result"
    }
   ],
   "source": [
    "data_frame = pd.DataFrame({\"Time\":time, \"Value\":value})\n",
    "data_frame.set_index(\"Time\")"
   ]
  },
  {
   "cell_type": "code",
   "execution_count": 176,
   "metadata": {},
   "outputs": [
    {
     "data": {
      "text/plain": [
       "[<matplotlib.lines.Line2D at 0x128591940>]"
      ]
     },
     "execution_count": 176,
     "metadata": {},
     "output_type": "execute_result"
    },
    {
     "data": {
      "image/png": "[encoded data removed]",
      "text/plain": [
       "<Figure size 432x288 with 1 Axes>"
      ]
     },
     "metadata": {
      "needs_background": "light"
     },
     "output_type": "display_data"
    }
   ],
   "source": [
    "plt.plot(data_frame[\"Value\"])"
   ]
  },
  {
   "cell_type": "code",
   "execution_count": null,
   "metadata": {},
   "outputs": [],
   "source": []
  }
 ],
 "metadata": {
  "kernelspec": {
   "display_name": "Python 3",
   "language": "python",
   "name": "python3"
  },
  "language_info": {
   "codemirror_mode": {
    "name": "ipython",
    "version": 3
   },
   "file_extension": ".py",
   "mimetype": "text/x-python",
   "name": "python",
   "nbconvert_exporter": "python",
   "pygments_lexer": "ipython3",
   "version": "3.8.3"
  }
 },
 "nbformat": 4,
 "nbformat_minor": 4
}
